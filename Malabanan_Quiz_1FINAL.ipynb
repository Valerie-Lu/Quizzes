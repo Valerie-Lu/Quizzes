{
 "cells": [
  {
   "cell_type": "markdown",
   "metadata": {},
   "source": [
    "# ITMGT 25.03 EE\n",
    "### Quiz 1\n",
    "\n",
    "This quiz will be credited to Class Participation. It is over 20 points.\n",
    "\n",
    "Instructions:\n",
    "1. Answer the questions below in the code box below the question. Follow the question carefully to avoid unnecessary deductions. If the question asks for a function, provide a function; if it asks for your function to return, then return, not print.\n",
    "2. You are allowed to submit this quiz in groups of 4 (maximum). Indicate your names in the given cell below this instruction cell. You are allowed to answer the quiz with fewer people (or even individually), but this is not recommended for difficulty reasons.\n",
    "3. Elect a group leader. This group leader will upload the group's notebook file to their GitHub repository, then they will send a link to their repository to joben.ilagan@gmail.com at 11:15 AM **at the latest** to accommodate for difficulties in sending the file. The file name should be: **GroupLeaderLastName_Quiz_1.ipynb**. Files sent from 11:16 AM to 12:15 PM will have final scores slashed in half, and files sent from 12:16 PM onwards will not be checked.\n",
    "4. This test is open notes and open internet. However, we may check code against internet sources.\n"
   ]
  },
  {
   "cell_type": "markdown",
   "metadata": {},
   "source": [
    "### Names: David Malabanan, Valerie Lu, Carl Jacinto, John Lee"
   ]
  },
  {
   "cell_type": "markdown",
   "metadata": {},
   "source": [
    "# 1a.\n",
    "### 3 points\n",
    "\n",
    "### Context\n",
    "\n",
    "The Caesar cipher is a very basic method of encrypting text. This is how to encrypt a message using the Caesar cipher:\n",
    "1. First, pick a message. \n",
    "2. Second, pick a number. \n",
    "3. Shift the alphabet right by the number that you chose.\n",
    "4. Replace each letter in the message with the new letter based on the shifted alphabet.\n",
    "\n",
    "For example, to encrypt \"ABC\" with the number 3, shift each letter right by 3. In this case, \"ABC\" becomes \"DEF\" because D comes 3 letters after A, E comes 3 letters after B, and F comes 3 letters after C. Letters near the end of the alphabet simply wrap around: \"WXYZ\" encrypted with the number 2 would yield the encrypted message \"YZAB\".\n",
    "\n",
    "\n",
    "### Required\n",
    "Write a function that takes a message (string) and a number (integer) as parameters and **returns** the encrypted message (string) based on the Caesar cipher. The message is of a variable length: even if it is 100 or 1000 characters long, it should still work.\n",
    "\n",
    "e.g. \n",
    "\n",
    "encrypt(\"MEAMORE\", 0) -> \"MEAMORE\"\n",
    "\n",
    "encrypt(\"MEAMORE\", 2) -> \"OGCOQTG\"\n",
    "\n",
    "### Constraints\n",
    "For simplicity, assume:\n",
    "1. There are no spaces in any of the strings.\n",
    "2. The numbers are always positive integers.\n",
    "3. All strings will only consist of capital letters."
   ]
  },
  {
   "cell_type": "code",
   "execution_count": 4,
   "metadata": {},
   "outputs": [
    {
     "data": {
      "text/plain": [
       "'OGCOQTG'"
      ]
     },
     "execution_count": 4,
     "metadata": {},
     "output_type": "execute_result"
    }
   ],
   "source": [
    "Alphabet= {0:\"A\",1:\"B\",2:\"C\",3:\"D\",4:\"E\",5:\"F\",6:\"G\",7:\"H\",8:\"I\",9:\"J\",10:\"K\",11:\"L\",12:\"M\",13:\"N\",14:\"O\",15:\"P\",16:\"Q\",17:\"R\",18:\"S\",19:\"T\",20:\"U\",21:\"V\",22:\"W\",23:\"X\",24:\"Y\",25:\"Z\"}\n",
    "RevAlphabet= {\"A\":0,\"B\":1,\"C\":2,\"D\":3,\"E\":4,\"F\":5,\"G\":6,\"H\":7,\"I\":8,\"J\":9,\"K\":10,\"L\":11,\"M\":12,\"N\":13,\"O\":14,\"P\":15,\"Q\":16,\"R\":17,\"S\":18,\"T\":19,\"U\":20,\"V\":21,\"W\":22,\"X\":23,\"Y\":24,\"Z\":25}\n",
    "def Caesar(x,y):\n",
    "    a=len(x)\n",
    "    b=a-1\n",
    "    message= list(x) \n",
    "    while a>0:\n",
    "        message[b]=Alphabet[(RevAlphabet[message[b]]+y)%26]\n",
    "        a-=1\n",
    "        b-=1\n",
    "    return(\"\".join(message))\n",
    "Caesar(\"MEAMORE\",2)\n"
   ]
  },
  {
   "cell_type": "markdown",
   "metadata": {},
   "source": [
    "# 1b.\n",
    "### 2 points\n",
    "\n",
    "### Required\n",
    "Based on the way the Caesar cipher works, write a function that takes an encrypted message (string) and a number (integer) as parameters and **returns** the decrypted message (string). The message is of a variable length: even if it is 100 or 1000 characters long, it should still work.\n",
    "\n",
    "e.g.\n",
    "\n",
    "decrypt(\"OGCOQTG\", 2) -> \"MEAMORE\"\n",
    "\n",
    "### Constraints\n",
    "For simplicity, assume:\n",
    "1. There are no spaces in any of the strings.\n",
    "2. The numbers are always positive integers.\n",
    "3. All strings will only consist of capital letters.\n",
    "4. The number will not exceed 26."
   ]
  },
  {
   "cell_type": "code",
   "execution_count": 5,
   "metadata": {},
   "outputs": [
    {
     "data": {
      "text/plain": [
       "'MEAMORE'"
      ]
     },
     "execution_count": 5,
     "metadata": {},
     "output_type": "execute_result"
    }
   ],
   "source": [
    "Alphabet= {0:\"A\",1:\"B\",2:\"C\",3:\"D\",4:\"E\",5:\"F\",6:\"G\",7:\"H\",8:\"I\",9:\"J\",10:\"K\",11:\"L\",12:\"M\",13:\"N\",14:\"O\",15:\"P\",16:\"Q\",17:\"R\",18:\"S\",19:\"T\",20:\"U\",21:\"V\",22:\"W\",23:\"X\",24:\"Y\",25:\"Z\"}\n",
    "RevAlphabet= {\"A\":0,\"B\":1,\"C\":2,\"D\":3,\"E\":4,\"F\":5,\"G\":6,\"H\":7,\"I\":8,\"J\":9,\"K\":10,\"L\":11,\"M\":12,\"N\":13,\"O\":14,\"P\":15,\"Q\":16,\"R\":17,\"S\":18,\"T\":19,\"U\":20,\"V\":21,\"W\":22,\"X\":23,\"Y\":24,\"Z\":25}\n",
    "def RevCaesar(x,y):\n",
    "    a=len(x)\n",
    "    b=a-1\n",
    "    message= list(x) \n",
    "    while a>0:\n",
    "        message[b]=Alphabet[(RevAlphabet[message[b]]-y)%26]\n",
    "        a-=1\n",
    "        b-=1\n",
    "    return(\"\".join(message))\n",
    "RevCaesar(\"OGCOQTG\",2)"
   ]
  },
  {
   "cell_type": "markdown",
   "metadata": {},
   "source": [
    "# 2\n",
    "\n",
    "### 5 points\n",
    "\n",
    "### Context\n",
    "\n",
    "The Caesar cipher is very easy to break. To remedy this, the Vigenère cipher was created as an extension to the Caesar cipher. This is how to encrypt a message based on the Vigenère cipher:\n",
    "1. Choose a message.\n",
    "2. Instead of choosing a number, choose a **keyword**. \n",
    "3. Repeat the keyword until the number of characters in the keyword matches the number of characters in the message.\n",
    "4. Shift each letter in the message right by the number value of the corresponding letter in the keyword.\n",
    "\n",
    "For example, to encrypt \"MEAMORE\" with the keyword \"UEDA\", first extend the keyword to match the length of the message. (In this case, the extended keyword would be \"UEDAUED\".) Now, shift each letter in \"MEAMORE\" by the number value of the corresponding letter in \"UEDAUED\" (for example, shift the first \"M\" 21 letters to the right because \"U\", the first letter in the keyword, is the 21st letter of the alphabet) to get \"GIDMIVH\" as the encrypted message.\n",
    "\n",
    "### Required\n",
    "Write a function that takes a message (string) and a keyword (string) as parameters and **returns** the Vigenère cipher encryption of the message. The message is of a variable length: even if it is 100 or 1000 characters long, it should still work.\n",
    "\n",
    "e.g.\n",
    "\n",
    "v_encrypt(\"ACCOUNTING\", \"SANEZ\") -> \"SCPSTFTVRF\"\n",
    "\n",
    "### Constraints\n",
    "For simplicity, assume:\n",
    "1. There are no spaces in any of the strings.\n",
    "2. The numbers are always positive integers.\n",
    "3. All strings will only consist of capital letters.\n",
    "4. The keyword will never exceed the length of the message."
   ]
  },
  {
   "cell_type": "code",
   "execution_count": 2,
   "metadata": {},
   "outputs": [
    {
     "data": {
      "text/plain": [
       "'HJQZFSS'"
      ]
     },
     "execution_count": 2,
     "metadata": {},
     "output_type": "execute_result"
    }
   ],
   "source": [
    "def vigenereFunction (message1,keyword1): \n",
    "\n",
    "    # convert keyword characters to list\n",
    "    letterList = list(keyword1)\n",
    "    \n",
    "    # extending the keyword\n",
    "    for i in range (len(keyword1),len(message1)):\n",
    "        letterList.insert(i,keyword1[i-len(keyword1)])\n",
    "    keywordExtended = \"\".join(letterList)\n",
    "    \n",
    "    # dictionary letter to number equivalent\n",
    "    # z is 0 not 26 for the modulo later\n",
    "    alphabetNumber = {'A':1,'B':2,'C':3,'D':4,'E':5,'F':6,'G':7,'H':8,'I':9,'J':10,'K':11,'L':12,'M':13,'N':14,'O':15,'P':16,'Q':17,'R':18,'S':19,'T':20,'U':21,'V':22,'W':23,'X':24,'Y':25,'Z':0}\n",
    "    \n",
    "    # convert letterList to have numerical elements\n",
    "    numberList = []\n",
    "    for letter1 in letterList:\n",
    "        numberList.insert(keywordExtended.index(letter1),alphabetNumber[letter1])\n",
    "\n",
    "    # convert message characters to list\n",
    "    messageList = list(message1)\n",
    "    \n",
    "    # convert messageList to have numerical elements\n",
    "    numberListOfMessage = []\n",
    "    for letter2 in messageList:\n",
    "        numberListOfMessage.insert(message1.index(letter2),alphabetNumber[letter2])\n",
    "\n",
    "    # add the partner elements of the lists together     \n",
    "    sumOfLists = [(number1+number2) for number1,number2 in zip(numberList,numberListOfMessage)]\n",
    "    # this won't be used, just to show more steps on how next step was attained\n",
    "    \n",
    "    # don't forget the modulo for translation to letters later\n",
    "    sumOfListsModulo = [(number1+number2)%26 for number1,number2 in zip(numberList,numberListOfMessage)]\n",
    "    \n",
    "    # reverse the dictionary\n",
    "    alphabetNumberReversed = {word1:word2 for word2,word1 in alphabetNumber.items()}\n",
    "\n",
    "    # convert back to a list of letters\n",
    "    letterListOfFinal = []\n",
    "    for numberY in sumOfListsModulo:\n",
    "        letterListOfFinal.insert(sumOfListsModulo.index(numberY),alphabetNumberReversed[numberY])\n",
    "    \n",
    "    # join the elements into a string\n",
    "    return \"\".join(letterListOfFinal)\n",
    "\n",
    "vigenereFunction (\"MEAMORE\",\"UEDA\")"
   ]
  },
  {
   "cell_type": "markdown",
   "metadata": {},
   "source": [
    "# 3\n",
    "### 5 points\n",
    "\n",
    "### Context\n",
    "Recall the concept of number system bases.\n",
    "\n",
    "\n",
    "You are most familiar with the decimal system, also known as base-10. Decimal has ten digits: \\[0, 1, 2, 3, 4, 5, 6, 7, 8, 9\\]. A decimal number such as \"425\" can be evaluated by separating its digits, multiplying each separated digit to its system's base raised to a certain exponent that is based on the digit's place in the number, then adding each resulting product back together. Illustrated:\n",
    "\n",
    "\n",
    "    # From decimal:\n",
    "    # 425 == (4 * 10**2) + (2 * 10**1) + (5 * 10**0) == 400 + 20 + 5 == 425\n",
    "\n",
    "### Required\n",
    "Write a function that takes three arguments: a number, its base, and the base to which it should be converted. The function should **return** the number in its new base (string). You need only consider bases 2 through 10: the function must be able to interpret a number from any base from 2 to 10 (including those in between), and it must be able to transform the resulting value into a number from any base from 2 to 10 (including those in between). All three arguments are integers. The number to be converted is variable in length.\n",
    "\n",
    "\n",
    "Format: \n",
    "\n",
    "    convert(number, old_base, new_base)\n",
    "\n",
    "e.g. \n",
    "\n",
    "    convert(101, 2, 10) -> 5 \n",
    "    convert(5, 10, 2) -> 101"
   ]
  },
  {
   "cell_type": "code",
   "execution_count": 6,
   "metadata": {},
   "outputs": [
    {
     "name": "stdout",
     "output_type": "stream",
     "text": [
      "5\n"
     ]
    }
   ],
   "source": [
    "def convertstring(num1, oldbase, newbase):\n",
    "    if oldbase == 10:\n",
    "        listofnum = [\"0\"] \n",
    "        rem = num1\n",
    "        while rem >= newbase:  \n",
    "            listofnum.append(str(rem%newbase))   #add the remainder of the division to the list\n",
    "            rem = rem//newbase    #the remainder will be used in the next loop\n",
    "\n",
    "        listofnum.append(str(rem)) #add the last number\n",
    "        mynumber= listofnum.pop(0) #remove the 0 that was in the list at the start\n",
    "        listofnum.reverse()\n",
    "        return print (\"\".join(listofnum))\n",
    "    \n",
    "    if oldbase != 10 and newbase ==10: \n",
    "        stringed = str(num1)\n",
    "        thenumber = int(stringed, base=oldbase)\n",
    "        return print(thenumber)\n",
    "    \n",
    "    else:\n",
    "        stringed = str(num1)\n",
    "        thenumberindecimal = int(stringed, base=oldbase)\n",
    "        con = [\"0\"] \n",
    "        rem = thenumberindecimal\n",
    "        while rem >= newbase:\n",
    "            con.append(str(rem%newbase))\n",
    "            rem = rem//newbase\n",
    "    \n",
    "        con.append(str(rem))\n",
    "        mynumber= con.pop(0)\n",
    "        con.reverse()\n",
    "\n",
    "        return (\"\".join(con))\n",
    "    \n",
    "    \n",
    "convertstring(101, 2, 10)"
   ]
  },
  {
   "cell_type": "markdown",
   "metadata": {},
   "source": [
    "# 4\n",
    "### 5 points\n",
    "### Context\n",
    "Recall the hexadecimal base system, or base-16. There are not enough Arabic numerals to support base-16, so the first few letters of the alphabet are used instead of numbers for higher values:\n",
    "   \n",
    "    A : 10\n",
    "    B : 11\n",
    "    C : 12\n",
    "    D : 13\n",
    "    E : 14\n",
    "    F : 15\n",
    "    \n",
    "Conversion to and from the hexadecimal system relies on the same principle and process as lower bases. For instance: converting the hexadecimal number \"1A9\" to decimal:\n",
    "\n",
    "    # From hexadecimal:\n",
    "    # 1A9 == (1 * 16**2) + (A * 16**1) + (9 * 16**0) == 425\n",
    "    # 1A9 == (1 * 16**2) + (10 * 16**1) + (9 * 16**0) == 425\n",
    "    \n",
    "### Required\n",
    "Write a function that takes a single argument, a number in hexadecimal (string). The function should **return** the number in **decimal** (string). You only need to consider decimal to hexadecimal, not the other way around.\n",
    "\n",
    "e.g. \n",
    "\n",
    "    dec_to_hex_convert(\"FF\") -> \"255\"\n",
    "    \n",
    "### Constraints\n",
    "1. Do not use the int(x, 16) function. You may still use int() to convert strings to integers.\n",
    "2. For simplicity, input integer strings will always represent positive integers."
   ]
  },
  {
   "cell_type": "code",
   "execution_count": 1,
   "metadata": {},
   "outputs": [
    {
     "data": {
      "text/plain": [
       "425"
      ]
     },
     "execution_count": 1,
     "metadata": {},
     "output_type": "execute_result"
    }
   ],
   "source": [
    "def hex_to_dec_convert(inputString):\n",
    "    \n",
    "    # convert to list\n",
    "    inputList = list(inputString)\n",
    "    \n",
    "    # dictionary, includes letters to numbers\n",
    "    hdDictionary = {\"0\":0,\"1\":1,\"2\":2,\"3\":3,\"4\":4,\"5\":5,\"6\":6,\"7\":7,\"8\":8,\"9\":9,\"A\":10,\"B\":11,\"C\":12,\"D\":13,\"E\":14,\"F\":15}\n",
    "\n",
    "    # convert all elements of prev. list to numbers\n",
    "    pureNumbersList = []\n",
    "    for memberElement in inputList:\n",
    "        pureNumbersList.insert(inputString.index(memberElement),hdDictionary[memberElement])\n",
    "\n",
    "    # length of string\n",
    "    lengthInputString = len(inputString)\n",
    "\n",
    "    # multiplication factor to which the numbers in the pureNumbersList will be multiplied to\n",
    "    # set to empty and zero\n",
    "    multiplicationFactor = []\n",
    "    positionNumber = 0\n",
    "    for memberElement2 in range((lengthInputString-1),-1,-1):\n",
    "        # lengthInputString-1 because that is the highest exponent\n",
    "        # -1 (middle) means we end at 0, the lowest exponent\n",
    "        multiplicationFactor.insert(positionNumber,16**(memberElement2))\n",
    "        # 16 raised to an exponent, ordered by positionNumber\n",
    "        positionNumber += 1\n",
    "        # positionNumber increases as we loop\n",
    "\n",
    "    # multiply the partner elements of the lists together\n",
    "    productOfLists = [(factor1*factor2) for factor1,factor2 in zip(pureNumbersList,multiplicationFactor)]\n",
    "    \n",
    "    # sum all elements in the list\n",
    "    finalSum = 0\n",
    "    for component in productOfLists:\n",
    "        finalSum += int(component)\n",
    "        \n",
    "    return finalSum\n",
    "\n",
    "hex_to_dec_convert(\"1A9\")"
   ]
  },
  {
   "cell_type": "code",
   "execution_count": null,
   "metadata": {},
   "outputs": [],
   "source": []
  }
 ],
 "metadata": {
  "kernelspec": {
   "display_name": "Python 3",
   "language": "python",
   "name": "python3"
  },
  "language_info": {
   "codemirror_mode": {
    "name": "ipython",
    "version": 3
   },
   "file_extension": ".py",
   "mimetype": "text/x-python",
   "name": "python",
   "nbconvert_exporter": "python",
   "pygments_lexer": "ipython3",
   "version": "3.7.3"
  }
 },
 "nbformat": 4,
 "nbformat_minor": 2
}
